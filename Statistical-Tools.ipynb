{
 "cells": [
  {
   "cell_type": "markdown",
   "id": "349f376b-ae3f-4aa4-a408-20ca4e79d766",
   "metadata": {},
   "source": [
    "### Model of Stock Return of Microsoft"
   ]
  },
  {
   "cell_type": "code",
   "execution_count": 2,
   "id": "c1d5cb5c-03ee-4b8f-b2b8-89aa26f9f2b8",
   "metadata": {},
   "outputs": [],
   "source": [
    "import pandas as pd\n",
    "import numpy as np\n",
    "import matplotlib.pyplot as plt\n",
    "%matplotlib inline\n",
    "from scipy.stats import norm #for normal distribution"
   ]
  },
  {
   "cell_type": "code",
   "execution_count": 3,
   "id": "0d68b05d-0ce5-4949-85ff-7a2f033b232a",
   "metadata": {},
   "outputs": [],
   "source": [
    "ms = pd.read_csv('C:\\\\Users\\\\Computer Care\\\\Downloads\\\\Files\\\\microsoft.csv', index_col = 0)"
   ]
  },
  {
   "cell_type": "code",
   "execution_count": 4,
   "id": "3d91ea8c-94a0-49a3-89ad-4976405ce89f",
   "metadata": {},
   "outputs": [
    {
     "data": {
      "text/html": [
       "<div>\n",
       "<style scoped>\n",
       "    .dataframe tbody tr th:only-of-type {\n",
       "        vertical-align: middle;\n",
       "    }\n",
       "\n",
       "    .dataframe tbody tr th {\n",
       "        vertical-align: top;\n",
       "    }\n",
       "\n",
       "    .dataframe thead th {\n",
       "        text-align: right;\n",
       "    }\n",
       "</style>\n",
       "<table border=\"1\" class=\"dataframe\">\n",
       "  <thead>\n",
       "    <tr style=\"text-align: right;\">\n",
       "      <th></th>\n",
       "      <th>Open</th>\n",
       "      <th>High</th>\n",
       "      <th>Low</th>\n",
       "      <th>Close</th>\n",
       "      <th>Adj Close</th>\n",
       "      <th>Volume</th>\n",
       "    </tr>\n",
       "    <tr>\n",
       "      <th>Date</th>\n",
       "      <th></th>\n",
       "      <th></th>\n",
       "      <th></th>\n",
       "      <th></th>\n",
       "      <th></th>\n",
       "      <th></th>\n",
       "    </tr>\n",
       "  </thead>\n",
       "  <tbody>\n",
       "    <tr>\n",
       "      <th>2014-12-31</th>\n",
       "      <td>46.730000</td>\n",
       "      <td>47.439999</td>\n",
       "      <td>46.450001</td>\n",
       "      <td>46.450001</td>\n",
       "      <td>42.848763</td>\n",
       "      <td>21552500</td>\n",
       "    </tr>\n",
       "    <tr>\n",
       "      <th>2015-01-02</th>\n",
       "      <td>46.660000</td>\n",
       "      <td>47.419998</td>\n",
       "      <td>46.540001</td>\n",
       "      <td>46.759998</td>\n",
       "      <td>43.134731</td>\n",
       "      <td>27913900</td>\n",
       "    </tr>\n",
       "    <tr>\n",
       "      <th>2015-01-05</th>\n",
       "      <td>46.369999</td>\n",
       "      <td>46.730000</td>\n",
       "      <td>46.250000</td>\n",
       "      <td>46.330002</td>\n",
       "      <td>42.738068</td>\n",
       "      <td>39673900</td>\n",
       "    </tr>\n",
       "    <tr>\n",
       "      <th>2015-01-06</th>\n",
       "      <td>46.380001</td>\n",
       "      <td>46.750000</td>\n",
       "      <td>45.540001</td>\n",
       "      <td>45.650002</td>\n",
       "      <td>42.110783</td>\n",
       "      <td>36447900</td>\n",
       "    </tr>\n",
       "    <tr>\n",
       "      <th>2015-01-07</th>\n",
       "      <td>45.980000</td>\n",
       "      <td>46.459999</td>\n",
       "      <td>45.490002</td>\n",
       "      <td>46.230000</td>\n",
       "      <td>42.645817</td>\n",
       "      <td>29114100</td>\n",
       "    </tr>\n",
       "  </tbody>\n",
       "</table>\n",
       "</div>"
      ],
      "text/plain": [
       "                 Open       High        Low      Close  Adj Close    Volume\n",
       "Date                                                                       \n",
       "2014-12-31  46.730000  47.439999  46.450001  46.450001  42.848763  21552500\n",
       "2015-01-02  46.660000  47.419998  46.540001  46.759998  43.134731  27913900\n",
       "2015-01-05  46.369999  46.730000  46.250000  46.330002  42.738068  39673900\n",
       "2015-01-06  46.380001  46.750000  45.540001  45.650002  42.110783  36447900\n",
       "2015-01-07  45.980000  46.459999  45.490002  46.230000  42.645817  29114100"
      ]
     },
     "execution_count": 4,
     "metadata": {},
     "output_type": "execute_result"
    }
   ],
   "source": [
    "ms.head()"
   ]
  },
  {
   "cell_type": "markdown",
   "id": "8f713ac6-7f6b-4560-93c6-bfab98636fb1",
   "metadata": {},
   "source": [
    "#### 1. Distribution of logReturn"
   ]
  },
  {
   "cell_type": "code",
   "execution_count": 6,
   "id": "0d36e187-d93f-45db-857d-1e09793253fb",
   "metadata": {},
   "outputs": [
    {
     "data": {
      "text/html": [
       "<div>\n",
       "<style scoped>\n",
       "    .dataframe tbody tr th:only-of-type {\n",
       "        vertical-align: middle;\n",
       "    }\n",
       "\n",
       "    .dataframe tbody tr th {\n",
       "        vertical-align: top;\n",
       "    }\n",
       "\n",
       "    .dataframe thead th {\n",
       "        text-align: right;\n",
       "    }\n",
       "</style>\n",
       "<table border=\"1\" class=\"dataframe\">\n",
       "  <thead>\n",
       "    <tr style=\"text-align: right;\">\n",
       "      <th></th>\n",
       "      <th>Open</th>\n",
       "      <th>High</th>\n",
       "      <th>Low</th>\n",
       "      <th>Close</th>\n",
       "      <th>Adj Close</th>\n",
       "      <th>Volume</th>\n",
       "      <th>TomorrowCP</th>\n",
       "      <th>logReturn</th>\n",
       "    </tr>\n",
       "    <tr>\n",
       "      <th>Date</th>\n",
       "      <th></th>\n",
       "      <th></th>\n",
       "      <th></th>\n",
       "      <th></th>\n",
       "      <th></th>\n",
       "      <th></th>\n",
       "      <th></th>\n",
       "      <th></th>\n",
       "    </tr>\n",
       "  </thead>\n",
       "  <tbody>\n",
       "    <tr>\n",
       "      <th>2014-12-31</th>\n",
       "      <td>46.730000</td>\n",
       "      <td>47.439999</td>\n",
       "      <td>46.450001</td>\n",
       "      <td>46.450001</td>\n",
       "      <td>42.848763</td>\n",
       "      <td>21552500</td>\n",
       "      <td>46.759998</td>\n",
       "      <td>0.006652</td>\n",
       "    </tr>\n",
       "    <tr>\n",
       "      <th>2015-01-02</th>\n",
       "      <td>46.660000</td>\n",
       "      <td>47.419998</td>\n",
       "      <td>46.540001</td>\n",
       "      <td>46.759998</td>\n",
       "      <td>43.134731</td>\n",
       "      <td>27913900</td>\n",
       "      <td>46.330002</td>\n",
       "      <td>-0.009238</td>\n",
       "    </tr>\n",
       "    <tr>\n",
       "      <th>2015-01-05</th>\n",
       "      <td>46.369999</td>\n",
       "      <td>46.730000</td>\n",
       "      <td>46.250000</td>\n",
       "      <td>46.330002</td>\n",
       "      <td>42.738068</td>\n",
       "      <td>39673900</td>\n",
       "      <td>45.650002</td>\n",
       "      <td>-0.014786</td>\n",
       "    </tr>\n",
       "    <tr>\n",
       "      <th>2015-01-06</th>\n",
       "      <td>46.380001</td>\n",
       "      <td>46.750000</td>\n",
       "      <td>45.540001</td>\n",
       "      <td>45.650002</td>\n",
       "      <td>42.110783</td>\n",
       "      <td>36447900</td>\n",
       "      <td>46.230000</td>\n",
       "      <td>0.012625</td>\n",
       "    </tr>\n",
       "    <tr>\n",
       "      <th>2015-01-07</th>\n",
       "      <td>45.980000</td>\n",
       "      <td>46.459999</td>\n",
       "      <td>45.490002</td>\n",
       "      <td>46.230000</td>\n",
       "      <td>42.645817</td>\n",
       "      <td>29114100</td>\n",
       "      <td>47.590000</td>\n",
       "      <td>0.028994</td>\n",
       "    </tr>\n",
       "  </tbody>\n",
       "</table>\n",
       "</div>"
      ],
      "text/plain": [
       "                 Open       High        Low      Close  Adj Close    Volume  \\\n",
       "Date                                                                          \n",
       "2014-12-31  46.730000  47.439999  46.450001  46.450001  42.848763  21552500   \n",
       "2015-01-02  46.660000  47.419998  46.540001  46.759998  43.134731  27913900   \n",
       "2015-01-05  46.369999  46.730000  46.250000  46.330002  42.738068  39673900   \n",
       "2015-01-06  46.380001  46.750000  45.540001  45.650002  42.110783  36447900   \n",
       "2015-01-07  45.980000  46.459999  45.490002  46.230000  42.645817  29114100   \n",
       "\n",
       "            TomorrowCP  logReturn  \n",
       "Date                               \n",
       "2014-12-31   46.759998   0.006652  \n",
       "2015-01-02   46.330002  -0.009238  \n",
       "2015-01-05   45.650002  -0.014786  \n",
       "2015-01-06   46.230000   0.012625  \n",
       "2015-01-07   47.590000   0.028994  "
      ]
     },
     "execution_count": 6,
     "metadata": {},
     "output_type": "execute_result"
    }
   ],
   "source": [
    "#Log Dailyreturn to check the probablility\n",
    "ms['TomorrowCP'] = ms.Close.shift(-1) \n",
    "ms[\"logReturn\"] = np.log(ms.TomorrowCP) - np.log(ms.Close)\n",
    "ms.head()"
   ]
  },
  {
   "cell_type": "code",
   "execution_count": 7,
   "id": "265c565d-2359-4969-9a3c-56695c84856e",
   "metadata": {},
   "outputs": [
    {
     "name": "stdout",
     "output_type": "stream",
     "text": [
      "0.0008202314861230223 0.014191897388737506\n"
     ]
    },
    {
     "data": {
      "image/png": "[encoded data removed]",
      "text/plain": [
       "<Figure size 1000x400 with 1 Axes>"
      ]
     },
     "metadata": {},
     "output_type": "display_data"
    }
   ],
   "source": [
    "# Plot a histogram to show the distribution of log return of Microsoft's stock.\n",
    "#computing mean and std from historic data of logreturn\n",
    "mu = ms.logReturn.mean()\n",
    "sigma  = ms.logReturn.std(ddof=1)\n",
    "print(mu, sigma)\n",
    "\n",
    "density = pd.DataFrame()\n",
    "density[\"x\"] = np.arange(ms.logReturn.min()-0.01, ms.logReturn.max()+0.01, 0.001) #gives range\n",
    "density[\"pdf\"] = norm.pdf(density.x, mu , sigma)\n",
    "\n",
    "ms.logReturn.hist(bins= 50, figsize = (10, 4), alpha = 0.5)\n",
    "plt.plot(density.x, density.pdf, color='red')\n",
    "plt.ylim = (0,20),\n",
    "plt.fill_between(x = np.arange(-0.1, -0.01, 0.0001),\n",
    "                y2 = 0 ,\n",
    "                y1 = norm.pdf(np.arange(-0.1, -0.01, 0.0001), mu , sigma),facecolor = 'pink', alpha =0.95)\n",
    "\n",
    "plt.show()"
   ]
  },
  {
   "cell_type": "markdown",
   "id": "e0a7632b-963b-4a8d-91b2-5b8ca01bdcd3",
   "metadata": {},
   "source": [
    "this is standdard normal varibale whihc is following z distribution\n",
    "the pink area is losing more than 5% in one day <-5%\n",
    "Base on the log return of microsoft, we can estimate that we have 0.55% chance of which the daily return is worse than -5%. "
   ]
  },
  {
   "cell_type": "markdown",
   "id": "fa07b6ea-9135-41bb-9a91-52e5529c6659",
   "metadata": {},
   "source": [
    "#### 2. Calculate probability of the stock price will drop over a certain percentage"
   ]
  },
  {
   "cell_type": "code",
   "execution_count": 8,
   "id": "28c81a76-2e42-4296-90ac-e76c8330d5d2",
   "metadata": {},
   "outputs": [
    {
     "name": "stdout",
     "output_type": "stream",
     "text": [
      "The Probability is  0.00017118482608677817\n"
     ]
    }
   ],
   "source": [
    "# probability that the stock price of microsoft will drop over 5% in a day\n",
    "prob_return1 = norm.cdf(-0.05, mu, sigma)\n",
    "print('The Probability is ', prob_return1)"
   ]
  },
  {
   "cell_type": "code",
   "execution_count": 9,
   "id": "9d0bf5f2-9f9e-4d27-8f43-e2c4187e5a82",
   "metadata": {},
   "outputs": [
    {
     "name": "stdout",
     "output_type": "stream",
     "text": [
      "The probability of dropping over 40% in 220 days is  0.002912363313330548\n"
     ]
    }
   ],
   "source": [
    "# drop over 40% in a year which has 220 trading days\n",
    "mu220 = 220*mu\n",
    "sigma220 = (220**0.5) * sigma\n",
    "print('The probability of dropping over 40% in 220 days is ', norm.cdf(-0.4, mu220, sigma220))"
   ]
  },
  {
   "cell_type": "markdown",
   "id": "1cededc4-431b-4ec4-bbee-3847462d6ef6",
   "metadata": {},
   "source": [
    "#### 3. Calculate Value at Risk( VaR)"
   ]
  },
  {
   "cell_type": "code",
   "execution_count": 10,
   "id": "1c7eb0c2-db98-42e9-97e3-a63a2fe003e4",
   "metadata": {},
   "outputs": [
    {
     "name": "stdout",
     "output_type": "stream",
     "text": [
      "Single day value at risk  -0.022523362407065\n"
     ]
    }
   ],
   "source": [
    "# Value at risk(VaR)\n",
    "VaR = norm.ppf(0.05, mu, sigma)\n",
    "print('Single day value at risk ', VaR)"
   ]
  },
  {
   "cell_type": "code",
   "execution_count": 11,
   "id": "f8cfe613-4089-46ff-9ee2-8c0a3c51350e",
   "metadata": {},
   "outputs": [
    {
     "name": "stdout",
     "output_type": "stream",
     "text": [
      "5% quantile  -0.022523362407065\n",
      "25% quantile -0.008752057838414963\n",
      "75% quantile 0.010392520810661006\n",
      "95% quantile  0.024163825379311034\n"
     ]
    }
   ],
   "source": [
    "# Quatiles\n",
    "\n",
    "print('5% quantile ', norm.ppf(0.05, mu, sigma))\n",
    "print('25% quantile', norm.ppf(0.25, mu, sigma))\n",
    "print('75% quantile', norm.ppf(0.75, mu, sigma))\n",
    "print('95% quantile ', norm.ppf(0.95, mu, sigma))\n"
   ]
  },
  {
   "cell_type": "markdown",
   "id": "5a8e1eb1-4b93-489a-bf2f-1eb6e8a8ca0e",
   "metadata": {},
   "source": [
    "### Estimate the Average Stock Return using CI"
   ]
  },
  {
   "cell_type": "code",
   "execution_count": 12,
   "id": "ef8089bf-6181-412b-99af-61fc6ca1479f",
   "metadata": {},
   "outputs": [],
   "source": [
    "# 90% Conidence Interval for LogReturn\n",
    "sample_size = ms.logReturn.shape[0]                                         # n\n",
    "sample_mean = ms.logReturn.mean()                                           # xbar\n",
    "sample_std = ms.logReturn.std(ddof = 1)/ sample_size ** 0.5                 # sigma/sqrt(n)"
   ]
  },
  {
   "cell_type": "code",
   "execution_count": 13,
   "id": "c7a50939-e6ff-4c0f-972d-f1edbc1f7e04",
   "metadata": {},
   "outputs": [],
   "source": [
    "# left- right quantiles for Z distribution have same magnitude except sign\n",
    "z_left = norm.ppf(0.05)                                                    # z(apha/2)\n",
    "z_right = norm.ppf(0.95)                                                   # z 1-(alpha/2)"
   ]
  },
  {
   "cell_type": "code",
   "execution_count": 14,
   "id": "7161fc26-2461-4bb6-ac3b-895bc52629bc",
   "metadata": {},
   "outputs": [],
   "source": [
    "# upper - lower boundries\n",
    "left_interval = sample_mean + z_left * sample_std\n",
    "right_interval = sample_mean + z_right * sample_std"
   ]
  },
  {
   "cell_type": "code",
   "execution_count": 15,
   "id": "3ee033e9-6ca4-408f-9bf9-75712e198dfb",
   "metadata": {},
   "outputs": [
    {
     "name": "stdout",
     "output_type": "stream",
     "text": [
      "90% confidence interval is  (-1.560325389937862e-05, 0.001656066226145423)\n"
     ]
    }
   ],
   "source": [
    "# Confidence interval tells you that there will be 90% chance that the average stock return lies between \"left and right intervals\"\n",
    "print('90% confidence interval is ', (left_interval, right_interval))"
   ]
  },
  {
   "cell_type": "code",
   "execution_count": 16,
   "id": "039dd8f1-5869-4228-9346-020e1f3ed3f9",
   "metadata": {},
   "outputs": [
    {
     "data": {
      "image/png": "[encoded data removed]",
      "text/plain": [
       "<Figure size 1000x400 with 1 Axes>"
      ]
     },
     "metadata": {},
     "output_type": "display_data"
    }
   ],
   "source": [
    "# Log return goes up and down during the period\n",
    "ms.logReturn.plot(figsize = (10,4))\n",
    "plt.axhline(y=0, color = 'red')\n",
    "plt.show()\n",
    "# daily return direcltly gives positive and neagtive trends"
   ]
  },
  {
   "cell_type": "markdown",
   "id": "faf32f3c-5fa5-4257-bc1d-5bdbdc80d059",
   "metadata": {},
   "source": [
    "### Hypothesis Testing"
   ]
  },
  {
   "cell_type": "markdown",
   "id": "a6fdc2f4-a3c7-46be-be68-19718bf21d80",
   "metadata": {},
   "source": [
    "#### 1. Set Hypothesis"
   ]
  },
  {
   "cell_type": "markdown",
   "id": "d41fa7b5-e358-4718-ba3f-0085b101508d",
   "metadata": {},
   "source": [
    "$H_0 : \\mu = 0$ \n",
    "$H_a : \\mu \\neq 0$\n",
    "\n",
    "* $H_0$ means avg stock is 0\n",
    "* $H_a$ means avg stock is not 0"
   ]
  },
  {
   "cell_type": "markdown",
   "id": "c842cb22-9378-4186-9ec8-68e268e19465",
   "metadata": {},
   "source": [
    "#### 2. Test Statistics"
   ]
  },
  {
   "cell_type": "code",
   "execution_count": 19,
   "id": "8f6a3e57-e4bc-4da4-b0f3-730c9708f16d",
   "metadata": {},
   "outputs": [
    {
     "data": {
      "text/plain": [
       "1.6141477140003675"
      ]
     },
     "execution_count": 19,
     "metadata": {},
     "output_type": "execute_result"
    }
   ],
   "source": [
    "# if sample size n is large enough, we can use z-distribution, instead of t-distribtuion, mu = 0 under the null hypothesis\n",
    "zhat = (sample_mean - 0)/ sample_std\n",
    "zhat"
   ]
  },
  {
   "cell_type": "markdown",
   "id": "4cc72796-ac29-4c16-9dd3-546f7ba2f7cb",
   "metadata": {},
   "source": [
    "#### 3. Set Decision Criteria"
   ]
  },
  {
   "cell_type": "code",
   "execution_count": 20,
   "id": "f0d7740f-012c-420b-a912-daa5e582597a",
   "metadata": {},
   "outputs": [
    {
     "data": {
      "text/plain": [
       "(-1.9599639845400545, 1.9599639845400545)"
      ]
     },
     "execution_count": 20,
     "metadata": {},
     "output_type": "execute_result"
    }
   ],
   "source": [
    "alpha = 0.05                                                  # 5% chance to reject null wrongly\n",
    "z_left = norm.ppf(alpha/2, 0, 1)\n",
    "z_right = -z_left                                             # z_dist is symmetric\n",
    "z_left, z_right"
   ]
  },
  {
   "cell_type": "markdown",
   "id": "2e770354-0a66-4038-ba21-984a0ab972ca",
   "metadata": {},
   "source": [
    "#### 4. Make Decision. Shall we reject or accept hypothesis?"
   ]
  },
  {
   "cell_type": "code",
   "execution_count": 21,
   "id": "d31d8463-b77e-42b2-9415-8e3cc2f12b17",
   "metadata": {},
   "outputs": [
    {
     "name": "stdout",
     "output_type": "stream",
     "text": [
      "At significant level of 0.05\n",
      "Shall we reject: False\n"
     ]
    }
   ],
   "source": [
    "print('At significant level of', alpha)\n",
    "print('Shall we reject:', zhat>z_right or zhat<z_left)"
   ]
  },
  {
   "cell_type": "markdown",
   "id": "0406fd81-30dc-481b-9c83-341cda62e141",
   "metadata": {},
   "source": [
    "#### Recheck Decision Criteria using P-value"
   ]
  },
  {
   "cell_type": "code",
   "execution_count": 22,
   "id": "377d50a9-4038-4a68-a819-0f1b1a4c4864",
   "metadata": {},
   "outputs": [
    {
     "name": "stdout",
     "output_type": "stream",
     "text": [
      "At significant level of 0.05\n",
      "Shall we reject: False\n"
     ]
    }
   ],
   "source": [
    "p = 1 - norm.cdf(zhat, 0, 1)\n",
    "print('At significant level of',alpha)\n",
    "print('Shall we reject:', p < alpha)"
   ]
  },
  {
   "cell_type": "markdown",
   "id": "a841a080-156a-489f-8ce1-ae0b81dfc769",
   "metadata": {},
   "source": [
    "##### We accepted null hypthosis means Average stock price is to zero, our conclusion maybe wrong but only 5% chance to be wrong.We conclude that average stock return is not obvious be positive."
   ]
  },
  {
   "cell_type": "code",
   "execution_count": null,
   "id": "f1885dd2-b809-40bc-9264-628f104853d4",
   "metadata": {},
   "outputs": [],
   "source": []
  }
 ],
 "metadata": {
  "kernelspec": {
   "display_name": "Python 3 (ipykernel)",
   "language": "python",
   "name": "python3"
  },
  "language_info": {
   "codemirror_mode": {
    "name": "ipython",
    "version": 3
   },
   "file_extension": ".py",
   "mimetype": "text/x-python",
   "name": "python",
   "nbconvert_exporter": "python",
   "pygments_lexer": "ipython3",
   "version": "3.11.7"
  }
 },
 "nbformat": 4,
 "nbformat_minor": 5
}
